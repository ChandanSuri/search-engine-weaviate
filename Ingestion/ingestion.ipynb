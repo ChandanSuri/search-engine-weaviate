{
 "cells": [
  {
   "cell_type": "markdown",
   "id": "feeb75c6",
   "metadata": {},
   "source": [
    "### Installing"
   ]
  },
  {
   "cell_type": "code",
   "execution_count": 4,
   "id": "e7efd1f6",
   "metadata": {},
   "outputs": [
    {
     "name": "stdout",
     "output_type": "stream",
     "text": [
      "Collecting weaviate-client\n",
      "  Downloading weaviate_client-4.16.7-py3-none-any.whl.metadata (3.7 kB)\n",
      "Collecting httpx<0.29.0,>=0.26.0 (from weaviate-client)\n",
      "  Using cached httpx-0.28.1-py3-none-any.whl.metadata (7.1 kB)\n",
      "Collecting validators<1.0.0,>=0.34.0 (from weaviate-client)\n",
      "  Downloading validators-0.35.0-py3-none-any.whl.metadata (3.9 kB)\n",
      "Collecting authlib<2.0.0,>=1.2.1 (from weaviate-client)\n",
      "  Downloading authlib-1.6.1-py2.py3-none-any.whl.metadata (1.6 kB)\n",
      "Collecting pydantic<3.0.0,>=2.8.0 (from weaviate-client)\n",
      "  Using cached pydantic-2.11.7-py3-none-any.whl.metadata (67 kB)\n",
      "Collecting grpcio<1.80.0,>=1.59.5 (from weaviate-client)\n",
      "  Using cached grpcio-1.74.0-cp311-cp311-macosx_11_0_universal2.whl.metadata (3.8 kB)\n",
      "Collecting grpcio-health-checking<1.80.0,>=1.59.5 (from weaviate-client)\n",
      "  Downloading grpcio_health_checking-1.74.0-py3-none-any.whl.metadata (1.0 kB)\n",
      "Collecting deprecation<3.0.0,>=2.1.0 (from weaviate-client)\n",
      "  Downloading deprecation-2.1.0-py2.py3-none-any.whl.metadata (4.6 kB)\n",
      "Collecting cryptography (from authlib<2.0.0,>=1.2.1->weaviate-client)\n",
      "  Downloading cryptography-45.0.6-cp311-abi3-macosx_10_9_universal2.whl.metadata (5.7 kB)\n",
      "Requirement already satisfied: packaging in /Users/chandansuri/Library/Python/3.11/lib/python/site-packages (from deprecation<3.0.0,>=2.1.0->weaviate-client) (25.0)\n",
      "Collecting protobuf<7.0.0,>=6.31.1 (from grpcio-health-checking<1.80.0,>=1.59.5->weaviate-client)\n",
      "  Downloading protobuf-6.32.0-cp39-abi3-macosx_10_9_universal2.whl.metadata (593 bytes)\n",
      "Collecting anyio (from httpx<0.29.0,>=0.26.0->weaviate-client)\n",
      "  Downloading anyio-4.10.0-py3-none-any.whl.metadata (4.0 kB)\n",
      "Collecting certifi (from httpx<0.29.0,>=0.26.0->weaviate-client)\n",
      "  Downloading certifi-2025.8.3-py3-none-any.whl.metadata (2.4 kB)\n",
      "Collecting httpcore==1.* (from httpx<0.29.0,>=0.26.0->weaviate-client)\n",
      "  Using cached httpcore-1.0.9-py3-none-any.whl.metadata (21 kB)\n",
      "Collecting idna (from httpx<0.29.0,>=0.26.0->weaviate-client)\n",
      "  Using cached idna-3.10-py3-none-any.whl.metadata (10 kB)\n",
      "Collecting h11>=0.16 (from httpcore==1.*->httpx<0.29.0,>=0.26.0->weaviate-client)\n",
      "  Using cached h11-0.16.0-py3-none-any.whl.metadata (8.3 kB)\n",
      "Collecting annotated-types>=0.6.0 (from pydantic<3.0.0,>=2.8.0->weaviate-client)\n",
      "  Using cached annotated_types-0.7.0-py3-none-any.whl.metadata (15 kB)\n",
      "Collecting pydantic-core==2.33.2 (from pydantic<3.0.0,>=2.8.0->weaviate-client)\n",
      "  Using cached pydantic_core-2.33.2-cp311-cp311-macosx_11_0_arm64.whl.metadata (6.8 kB)\n",
      "Requirement already satisfied: typing-extensions>=4.12.2 in /Users/chandansuri/Library/Python/3.11/lib/python/site-packages (from pydantic<3.0.0,>=2.8.0->weaviate-client) (4.14.1)\n",
      "Collecting typing-inspection>=0.4.0 (from pydantic<3.0.0,>=2.8.0->weaviate-client)\n",
      "  Using cached typing_inspection-0.4.1-py3-none-any.whl.metadata (2.6 kB)\n",
      "Collecting sniffio>=1.1 (from anyio->httpx<0.29.0,>=0.26.0->weaviate-client)\n",
      "  Using cached sniffio-1.3.1-py3-none-any.whl.metadata (3.9 kB)\n",
      "Collecting cffi>=1.14 (from cryptography->authlib<2.0.0,>=1.2.1->weaviate-client)\n",
      "  Using cached cffi-1.17.1-cp311-cp311-macosx_11_0_arm64.whl.metadata (1.5 kB)\n",
      "Collecting pycparser (from cffi>=1.14->cryptography->authlib<2.0.0,>=1.2.1->weaviate-client)\n",
      "  Using cached pycparser-2.22-py3-none-any.whl.metadata (943 bytes)\n",
      "Downloading weaviate_client-4.16.7-py3-none-any.whl (797 kB)\n",
      "\u001b[2K   \u001b[90m━━━━━━━━━━━━━━━━━━━━━━━━━━━━━━━━━━━━━━━━\u001b[0m \u001b[32m797.6/797.6 kB\u001b[0m \u001b[31m9.9 MB/s\u001b[0m eta \u001b[36m0:00:00\u001b[0m\n",
      "\u001b[?25hDownloading authlib-1.6.1-py2.py3-none-any.whl (239 kB)\n",
      "Downloading deprecation-2.1.0-py2.py3-none-any.whl (11 kB)\n",
      "Using cached grpcio-1.74.0-cp311-cp311-macosx_11_0_universal2.whl (11.0 MB)\n",
      "Downloading grpcio_health_checking-1.74.0-py3-none-any.whl (18 kB)\n",
      "Using cached httpx-0.28.1-py3-none-any.whl (73 kB)\n",
      "Using cached httpcore-1.0.9-py3-none-any.whl (78 kB)\n",
      "Downloading protobuf-6.32.0-cp39-abi3-macosx_10_9_universal2.whl (426 kB)\n",
      "Using cached pydantic-2.11.7-py3-none-any.whl (444 kB)\n",
      "Using cached pydantic_core-2.33.2-cp311-cp311-macosx_11_0_arm64.whl (1.9 MB)\n",
      "Downloading validators-0.35.0-py3-none-any.whl (44 kB)\n",
      "Using cached annotated_types-0.7.0-py3-none-any.whl (13 kB)\n",
      "Using cached h11-0.16.0-py3-none-any.whl (37 kB)\n",
      "Using cached typing_inspection-0.4.1-py3-none-any.whl (14 kB)\n",
      "Downloading anyio-4.10.0-py3-none-any.whl (107 kB)\n",
      "Using cached idna-3.10-py3-none-any.whl (70 kB)\n",
      "Using cached sniffio-1.3.1-py3-none-any.whl (10 kB)\n",
      "Downloading certifi-2025.8.3-py3-none-any.whl (161 kB)\n",
      "Downloading cryptography-45.0.6-cp311-abi3-macosx_10_9_universal2.whl (7.0 MB)\n",
      "\u001b[2K   \u001b[90m━━━━━━━━━━━━━━━━━━━━━━━━━━━━━━━━━━━━━━━━\u001b[0m \u001b[32m7.0/7.0 MB\u001b[0m \u001b[31m12.7 MB/s\u001b[0m eta \u001b[36m0:00:00\u001b[0ma \u001b[36m0:00:01\u001b[0m\n",
      "\u001b[?25hUsing cached cffi-1.17.1-cp311-cp311-macosx_11_0_arm64.whl (178 kB)\n",
      "Using cached pycparser-2.22-py3-none-any.whl (117 kB)\n",
      "Installing collected packages: validators, typing-inspection, sniffio, pydantic-core, pycparser, protobuf, idna, h11, grpcio, deprecation, certifi, annotated-types, pydantic, httpcore, grpcio-health-checking, cffi, anyio, httpx, cryptography, authlib, weaviate-client\n",
      "\u001b[2K   \u001b[90m━━━━━━━━━━━━━━━━━━━━━━━━━━━━━━━━━━━━━━━━\u001b[0m \u001b[32m21/21\u001b[0m [weaviate-client] [weaviate-client]\n",
      "\u001b[1A\u001b[2KSuccessfully installed annotated-types-0.7.0 anyio-4.10.0 authlib-1.6.1 certifi-2025.8.3 cffi-1.17.1 cryptography-45.0.6 deprecation-2.1.0 grpcio-1.74.0 grpcio-health-checking-1.74.0 h11-0.16.0 httpcore-1.0.9 httpx-0.28.1 idna-3.10 protobuf-6.32.0 pycparser-2.22 pydantic-2.11.7 pydantic-core-2.33.2 sniffio-1.3.1 typing-inspection-0.4.1 validators-0.35.0 weaviate-client-4.16.7\n",
      "\n",
      "\u001b[1m[\u001b[0m\u001b[34;49mnotice\u001b[0m\u001b[1;39;49m]\u001b[0m\u001b[39;49m A new release of pip is available: \u001b[0m\u001b[31;49m25.1.1\u001b[0m\u001b[39;49m -> \u001b[0m\u001b[32;49m25.2\u001b[0m\n",
      "\u001b[1m[\u001b[0m\u001b[34;49mnotice\u001b[0m\u001b[1;39;49m]\u001b[0m\u001b[39;49m To update, run: \u001b[0m\u001b[32;49m/opt/homebrew/opt/python@3.11/bin/python3.11 -m pip install --upgrade pip\u001b[0m\n",
      "Note: you may need to restart the kernel to use updated packages.\n"
     ]
    }
   ],
   "source": [
    "pip install -U weaviate-client"
   ]
  },
  {
   "cell_type": "code",
   "execution_count": 5,
   "id": "23198ab4",
   "metadata": {},
   "outputs": [
    {
     "name": "stdout",
     "output_type": "stream",
     "text": [
      "Collecting python-dotenv\n",
      "  Using cached python_dotenv-1.1.1-py3-none-any.whl.metadata (24 kB)\n",
      "Using cached python_dotenv-1.1.1-py3-none-any.whl (20 kB)\n",
      "Installing collected packages: python-dotenv\n",
      "Successfully installed python-dotenv-1.1.1\n",
      "\n",
      "\u001b[1m[\u001b[0m\u001b[34;49mnotice\u001b[0m\u001b[1;39;49m]\u001b[0m\u001b[39;49m A new release of pip is available: \u001b[0m\u001b[31;49m25.1.1\u001b[0m\u001b[39;49m -> \u001b[0m\u001b[32;49m25.2\u001b[0m\n",
      "\u001b[1m[\u001b[0m\u001b[34;49mnotice\u001b[0m\u001b[1;39;49m]\u001b[0m\u001b[39;49m To update, run: \u001b[0m\u001b[32;49m/opt/homebrew/opt/python@3.11/bin/python3.11 -m pip install --upgrade pip\u001b[0m\n",
      "Note: you may need to restart the kernel to use updated packages.\n"
     ]
    }
   ],
   "source": [
    "pip install python-dotenv"
   ]
  },
  {
   "cell_type": "code",
   "execution_count": 6,
   "id": "364b818e",
   "metadata": {},
   "outputs": [],
   "source": [
    "from dotenv import load_dotenv"
   ]
  },
  {
   "cell_type": "code",
   "execution_count": 30,
   "id": "e2a9aaf4",
   "metadata": {},
   "outputs": [
    {
     "name": "stdout",
     "output_type": "stream",
     "text": [
      "True\n"
     ]
    }
   ],
   "source": [
    "import os\n",
    "import weaviate\n",
    "from weaviate.classes.init import Auth\n",
    "\n",
    "# --- 1. Connection Details ---\n",
    "load_dotenv()\n",
    "WEAVIATE_URL = os.environ.get(\"WEAVIATE_URL\")\n",
    "WEAVIATE_API_KEY = os.environ.get(\"WEAVIATE_API_KEY\")\n",
    "OPENAI_API_KEY = os.environ.get(\"OPENAI_API_KEY\")\n",
    "\n",
    "# --- 2. Connect to Weaviate Cloud (v4 method) ---\n",
    "client = weaviate.connect_to_weaviate_cloud(\n",
    "    cluster_url=WEAVIATE_URL,\n",
    "    auth_credentials=Auth.api_key(WEAVIATE_API_KEY),\n",
    "    headers={\"X-OpenAI-Api-Key\": OPENAI_API_KEY}\n",
    ")\n",
    "\n",
    "print(client.is_ready())"
   ]
  },
  {
   "cell_type": "code",
   "execution_count": 31,
   "id": "e1e92e41",
   "metadata": {},
   "outputs": [],
   "source": [
    "import weaviate.classes.config as wvc"
   ]
  },
  {
   "cell_type": "code",
   "execution_count": 32,
   "id": "a6a82db6",
   "metadata": {},
   "outputs": [
    {
     "name": "stdout",
     "output_type": "stream",
     "text": [
      "Creating collection 'EcommerceProducts'...\n",
      "Successfully created collection 'EcommerceProducts'\n",
      "Connection closed.\n"
     ]
    }
   ],
   "source": [
    "# --- 3. Define and Create the Collection ---\n",
    "collection_name = \"EcommerceProducts\"\n",
    "\n",
    "try:\n",
    "    if not client.collections.exists(collection_name):\n",
    "        print(f\"Creating collection '{collection_name}'...\")\n",
    "        products = client.collections.create(\n",
    "            name=collection_name,\n",
    "            vectorizer_config=wvc.Configure.Vectorizer.text2vec_openai(),\n",
    "            properties=[\n",
    "                # Properties for semantic search\n",
    "                wvc.Property(name=\"product_title\", data_type=wvc.DataType.TEXT),\n",
    "                wvc.Property(name=\"product_description\", data_type=wvc.DataType.TEXT),\n",
    "                wvc.Property(name=\"product_bullet_point\", data_type=wvc.DataType.TEXT),\n",
    "                \n",
    "                # Properties for filtering ONLY (vectorization is skipped)\n",
    "                wvc.Property(name=\"product_id\", data_type=wvc.DataType.TEXT, skip_vectorization=True),\n",
    "                wvc.Property(name=\"product_brand\", data_type=wvc.DataType.TEXT, skip_vectorization=True),\n",
    "                wvc.Property(name=\"product_color\", data_type=wvc.DataType.TEXT, skip_vectorization=True),\n",
    "            ]\n",
    "        )\n",
    "        print(f\"Successfully created collection '{collection_name}'\")\n",
    "    else:\n",
    "        print(f\"Collection '{collection_name}' already exists.\")\n",
    "\n",
    "finally:\n",
    "    client.close()\n",
    "    print(\"Connection closed.\")"
   ]
  },
  {
   "cell_type": "code",
   "execution_count": null,
   "id": "e2ee11f1",
   "metadata": {},
   "outputs": [
    {
     "name": "stdout",
     "output_type": "stream",
     "text": [
      "Starting data ingestion to Weaviate Cloud...\n",
      "Imported 10000 of 1215854 products\n",
      "Imported 20000 of 1215854 products\n",
      "Imported 30000 of 1215854 products\n",
      "Imported 40000 of 1215854 products\n",
      "Imported 50000 of 1215854 products\n",
      "Imported 60000 of 1215854 products\n",
      "Imported 70000 of 1215854 products\n",
      "Imported 80000 of 1215854 products\n",
      "Imported 90000 of 1215854 products\n",
      "Imported 100000 of 1215854 products\n",
      "Imported 110000 of 1215854 products\n",
      "Imported 120000 of 1215854 products\n",
      "Imported 130000 of 1215854 products\n",
      "Imported 140000 of 1215854 products\n",
      "Imported 150000 of 1215854 products\n",
      "Imported 160000 of 1215854 products\n",
      "Imported 170000 of 1215854 products\n",
      "Imported 180000 of 1215854 products\n",
      "Imported 190000 of 1215854 products\n",
      "Imported 200000 of 1215854 products\n"
     ]
    },
    {
     "name": "stderr",
     "output_type": "stream",
     "text": [
      "{'message': 'Failed to send 485 in a batch of 1000', 'errors': {\"unmarshal response body. Got: <html>\\r\\n<head><title>502 Bad Gateway</title></head>\\r\\n<body>\\r\\n<center><h1>502 Bad Gateway</h1></center>\\r\\n<hr><center>cloudflare</center>\\r\\n</body>\\r\\n</html>\\r\\n: invalid character '<' looking for beginning of value\"}}\n",
      "{'message': 'Failed to send 485 objects in a batch of 1000. Please inspect client.batch.failed_objects or collection.batch.failed_objects for the failed objects.'}\n"
     ]
    },
    {
     "name": "stdout",
     "output_type": "stream",
     "text": [
      "Imported 210000 of 1215854 products\n"
     ]
    },
    {
     "name": "stderr",
     "output_type": "stream",
     "text": [
      "{'message': 'Failed to send 544 in a batch of 1000', 'errors': {\"unmarshal response body. Got: upstream connect error or disconnect/reset before headers. reset reason: connection termination: invalid character 'u' looking for beginning of value\"}}\n",
      "{'message': 'Failed to send 544 objects in a batch of 1000. Please inspect client.batch.failed_objects or collection.batch.failed_objects for the failed objects.'}\n"
     ]
    },
    {
     "name": "stdout",
     "output_type": "stream",
     "text": [
      "Imported 220000 of 1215854 products\n",
      "Imported 230000 of 1215854 products\n",
      "Imported 240000 of 1215854 products\n",
      "Imported 250000 of 1215854 products\n"
     ]
    }
   ],
   "source": [
    "import pandas as pd\n",
    "\n",
    "# --- 1. Connection Details ---\n",
    "load_dotenv()\n",
    "WEAVIATE_URL = os.environ.get(\"WEAVIATE_URL\")\n",
    "WEAVIATE_API_KEY = os.environ.get(\"WEAVIATE_API_KEY\")\n",
    "OPENAI_API_KEY = os.environ.get(\"OPENAI_API_KEY\")\n",
    "\n",
    "# --- 2. Connect to Weaviate Cloud (v4 method) ---\n",
    "client = weaviate.connect_to_weaviate_cloud(\n",
    "    cluster_url=WEAVIATE_URL,\n",
    "    auth_credentials=Auth.api_key(WEAVIATE_API_KEY),\n",
    "    headers={\"X-OpenAI-Api-Key\": OPENAI_API_KEY}\n",
    ")\n",
    "\n",
    "# --- 3. Load Data and Ingest ---\n",
    "try:\n",
    "    # Get the collection object\n",
    "    products = client.collections.get(\"EcommerceProducts\")\n",
    "\n",
    "    df = pd.read_parquet('../Dataset/shopping_queries_dataset_products_us.parquet')\n",
    "    df.fillna('', inplace=True)\n",
    "\n",
    "    print(\"Starting data ingestion to Weaviate Cloud...\")\n",
    "\n",
    "    # Use the collection's batch manager for dynamic batching\n",
    "    with products.batch.dynamic() as batch:\n",
    "        for i, row in df.iterrows():\n",
    "            properties = {\n",
    "                \"product_id\": row[\"product_id\"],\n",
    "                \"product_title\": row[\"product_title\"],\n",
    "                \"product_description\": row[\"product_description\"],\n",
    "                \"product_bullet_point\": row[\"product_bullet_point\"],\n",
    "                \"product_brand\": row[\"product_brand\"],\n",
    "                \"product_color\": row[\"product_color\"]\n",
    "            }\n",
    "            # Add object to the batch\n",
    "            batch.add_object(properties=properties)\n",
    "\n",
    "            if (i + 1) % 10000 == 0:\n",
    "                print(f\"Imported {i + 1} of {len(df)} products\")\n",
    "    \n",
    "    print(f\"Data ingestion complete! Total objects in collection: {len(products)}\")\n",
    "\n",
    "finally:\n",
    "    client.close()\n",
    "    print(\"Connection closed.\")"
   ]
  }
 ],
 "metadata": {
  "kernelspec": {
   "display_name": "Python 3",
   "language": "python",
   "name": "python3"
  },
  "language_info": {
   "codemirror_mode": {
    "name": "ipython",
    "version": 3
   },
   "file_extension": ".py",
   "mimetype": "text/x-python",
   "name": "python",
   "nbconvert_exporter": "python",
   "pygments_lexer": "ipython3",
   "version": "3.11.12"
  }
 },
 "nbformat": 4,
 "nbformat_minor": 5
}
