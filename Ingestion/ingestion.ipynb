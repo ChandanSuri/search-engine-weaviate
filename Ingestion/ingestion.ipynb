{
 "cells": [
  {
   "cell_type": "markdown",
   "id": "feeb75c6",
   "metadata": {},
   "source": [
    "### Installing"
   ]
  },
  {
   "cell_type": "code",
   "execution_count": 1,
   "id": "e7efd1f6",
   "metadata": {},
   "outputs": [
    {
     "name": "stdout",
     "output_type": "stream",
     "text": [
      "Requirement already satisfied: weaviate-client in /opt/homebrew/lib/python3.11/site-packages (4.16.7)\n",
      "Collecting weaviate-client\n",
      "  Downloading weaviate_client-4.16.9-py3-none-any.whl.metadata (3.7 kB)\n",
      "Requirement already satisfied: httpx<0.29.0,>=0.26.0 in /opt/homebrew/lib/python3.11/site-packages (from weaviate-client) (0.28.1)\n",
      "Requirement already satisfied: validators<1.0.0,>=0.34.0 in /opt/homebrew/lib/python3.11/site-packages (from weaviate-client) (0.35.0)\n",
      "Requirement already satisfied: authlib<2.0.0,>=1.2.1 in /opt/homebrew/lib/python3.11/site-packages (from weaviate-client) (1.6.1)\n",
      "Requirement already satisfied: pydantic<3.0.0,>=2.8.0 in /opt/homebrew/lib/python3.11/site-packages (from weaviate-client) (2.11.7)\n",
      "Requirement already satisfied: grpcio<1.80.0,>=1.59.5 in /opt/homebrew/lib/python3.11/site-packages (from weaviate-client) (1.74.0)\n",
      "Requirement already satisfied: protobuf<7.0.0,>=4.21.6 in /opt/homebrew/lib/python3.11/site-packages (from weaviate-client) (6.32.0)\n",
      "Requirement already satisfied: deprecation<3.0.0,>=2.1.0 in /opt/homebrew/lib/python3.11/site-packages (from weaviate-client) (2.1.0)\n",
      "Requirement already satisfied: cryptography in /opt/homebrew/lib/python3.11/site-packages (from authlib<2.0.0,>=1.2.1->weaviate-client) (45.0.6)\n",
      "Requirement already satisfied: packaging in /Users/chandansuri/Library/Python/3.11/lib/python/site-packages (from deprecation<3.0.0,>=2.1.0->weaviate-client) (25.0)\n",
      "Requirement already satisfied: anyio in /opt/homebrew/lib/python3.11/site-packages (from httpx<0.29.0,>=0.26.0->weaviate-client) (4.10.0)\n",
      "Requirement already satisfied: certifi in /opt/homebrew/lib/python3.11/site-packages (from httpx<0.29.0,>=0.26.0->weaviate-client) (2025.8.3)\n",
      "Requirement already satisfied: httpcore==1.* in /opt/homebrew/lib/python3.11/site-packages (from httpx<0.29.0,>=0.26.0->weaviate-client) (1.0.9)\n",
      "Requirement already satisfied: idna in /opt/homebrew/lib/python3.11/site-packages (from httpx<0.29.0,>=0.26.0->weaviate-client) (3.10)\n",
      "Requirement already satisfied: h11>=0.16 in /opt/homebrew/lib/python3.11/site-packages (from httpcore==1.*->httpx<0.29.0,>=0.26.0->weaviate-client) (0.16.0)\n",
      "Requirement already satisfied: annotated-types>=0.6.0 in /opt/homebrew/lib/python3.11/site-packages (from pydantic<3.0.0,>=2.8.0->weaviate-client) (0.7.0)\n",
      "Requirement already satisfied: pydantic-core==2.33.2 in /opt/homebrew/lib/python3.11/site-packages (from pydantic<3.0.0,>=2.8.0->weaviate-client) (2.33.2)\n",
      "Requirement already satisfied: typing-extensions>=4.12.2 in /Users/chandansuri/Library/Python/3.11/lib/python/site-packages (from pydantic<3.0.0,>=2.8.0->weaviate-client) (4.14.1)\n",
      "Requirement already satisfied: typing-inspection>=0.4.0 in /opt/homebrew/lib/python3.11/site-packages (from pydantic<3.0.0,>=2.8.0->weaviate-client) (0.4.1)\n",
      "Requirement already satisfied: sniffio>=1.1 in /opt/homebrew/lib/python3.11/site-packages (from anyio->httpx<0.29.0,>=0.26.0->weaviate-client) (1.3.1)\n",
      "Requirement already satisfied: cffi>=1.14 in /opt/homebrew/lib/python3.11/site-packages (from cryptography->authlib<2.0.0,>=1.2.1->weaviate-client) (1.17.1)\n",
      "Requirement already satisfied: pycparser in /opt/homebrew/lib/python3.11/site-packages (from cffi>=1.14->cryptography->authlib<2.0.0,>=1.2.1->weaviate-client) (2.22)\n",
      "Downloading weaviate_client-4.16.9-py3-none-any.whl (579 kB)\n",
      "\u001b[2K   \u001b[90m━━━━━━━━━━━━━━━━━━━━━━━━━━━━━━━━━━━━━━━━\u001b[0m \u001b[32m579.1/579.1 kB\u001b[0m \u001b[31m10.9 MB/s\u001b[0m eta \u001b[36m0:00:00\u001b[0m\n",
      "\u001b[?25hInstalling collected packages: weaviate-client\n",
      "  Attempting uninstall: weaviate-client\n",
      "    Found existing installation: weaviate-client 4.16.7\n",
      "    Uninstalling weaviate-client-4.16.7:\n",
      "      Successfully uninstalled weaviate-client-4.16.7\n",
      "Successfully installed weaviate-client-4.16.9\n",
      "\n",
      "\u001b[1m[\u001b[0m\u001b[34;49mnotice\u001b[0m\u001b[1;39;49m]\u001b[0m\u001b[39;49m A new release of pip is available: \u001b[0m\u001b[31;49m25.1.1\u001b[0m\u001b[39;49m -> \u001b[0m\u001b[32;49m25.2\u001b[0m\n",
      "\u001b[1m[\u001b[0m\u001b[34;49mnotice\u001b[0m\u001b[1;39;49m]\u001b[0m\u001b[39;49m To update, run: \u001b[0m\u001b[32;49m/opt/homebrew/opt/python@3.11/bin/python3.11 -m pip install --upgrade pip\u001b[0m\n",
      "Note: you may need to restart the kernel to use updated packages.\n"
     ]
    }
   ],
   "source": [
    "pip install -U weaviate-client"
   ]
  },
  {
   "cell_type": "code",
   "execution_count": 2,
   "id": "23198ab4",
   "metadata": {},
   "outputs": [
    {
     "name": "stdout",
     "output_type": "stream",
     "text": [
      "Requirement already satisfied: python-dotenv in /opt/homebrew/lib/python3.11/site-packages (1.1.1)\n",
      "\n",
      "\u001b[1m[\u001b[0m\u001b[34;49mnotice\u001b[0m\u001b[1;39;49m]\u001b[0m\u001b[39;49m A new release of pip is available: \u001b[0m\u001b[31;49m25.1.1\u001b[0m\u001b[39;49m -> \u001b[0m\u001b[32;49m25.2\u001b[0m\n",
      "\u001b[1m[\u001b[0m\u001b[34;49mnotice\u001b[0m\u001b[1;39;49m]\u001b[0m\u001b[39;49m To update, run: \u001b[0m\u001b[32;49m/opt/homebrew/opt/python@3.11/bin/python3.11 -m pip install --upgrade pip\u001b[0m\n",
      "Note: you may need to restart the kernel to use updated packages.\n"
     ]
    }
   ],
   "source": [
    "pip install python-dotenv"
   ]
  },
  {
   "cell_type": "code",
   "execution_count": 1,
   "id": "364b818e",
   "metadata": {},
   "outputs": [],
   "source": [
    "from dotenv import load_dotenv"
   ]
  },
  {
   "cell_type": "code",
   "execution_count": 2,
   "id": "e2a9aaf4",
   "metadata": {},
   "outputs": [
    {
     "name": "stdout",
     "output_type": "stream",
     "text": [
      "True\n"
     ]
    }
   ],
   "source": [
    "import os\n",
    "import weaviate\n",
    "from weaviate.classes.init import Auth\n",
    "\n",
    "# --- 1. Connection Details ---\n",
    "load_dotenv()\n",
    "WEAVIATE_URL = os.environ.get(\"WEAVIATE_URL\")\n",
    "WEAVIATE_API_KEY = os.environ.get(\"WEAVIATE_API_KEY\")\n",
    "OPENAI_API_KEY = os.environ.get(\"OPENAI_API_KEY\")\n",
    "\n",
    "# --- 2. Connect to Weaviate Cloud (v4 method) ---\n",
    "client = weaviate.connect_to_weaviate_cloud(\n",
    "    cluster_url=WEAVIATE_URL,\n",
    "    auth_credentials=Auth.api_key(WEAVIATE_API_KEY),\n",
    "    headers={\"X-OpenAI-Api-Key\": OPENAI_API_KEY}\n",
    ")\n",
    "\n",
    "print(client.is_ready())"
   ]
  },
  {
   "cell_type": "code",
   "execution_count": 3,
   "id": "e1e92e41",
   "metadata": {},
   "outputs": [],
   "source": [
    "import weaviate.classes.config as wvc"
   ]
  },
  {
   "cell_type": "code",
   "execution_count": 4,
   "id": "a6a82db6",
   "metadata": {},
   "outputs": [
    {
     "name": "stdout",
     "output_type": "stream",
     "text": [
      "Creating collection 'EcommerceProducts'...\n"
     ]
    },
    {
     "name": "stderr",
     "output_type": "stream",
     "text": [
      "/opt/homebrew/lib/python3.11/site-packages/weaviate/warnings.py:196: DeprecationWarning: Dep024: You are using the `vectorizer_config` argument in `collection.config.create()`, which is deprecated.\n",
      "            Use the `vector_config` argument instead.\n",
      "            \n",
      "  warnings.warn(\n"
     ]
    },
    {
     "name": "stdout",
     "output_type": "stream",
     "text": [
      "Successfully created collection 'EcommerceProducts'\n",
      "Connection closed.\n"
     ]
    }
   ],
   "source": [
    "# --- 3. Define and Create the Collection ---\n",
    "collection_name = \"EcommerceProducts\"\n",
    "\n",
    "try:\n",
    "    if not client.collections.exists(collection_name):\n",
    "        print(f\"Creating collection '{collection_name}'...\")\n",
    "        products = client.collections.create(\n",
    "            name=collection_name,\n",
    "            vectorizer_config=wvc.Configure.Vectorizer.text2vec_openai(),\n",
    "            properties=[\n",
    "                # Properties for semantic search\n",
    "                wvc.Property(name=\"product_title\", data_type=wvc.DataType.TEXT),\n",
    "                wvc.Property(name=\"product_description\", data_type=wvc.DataType.TEXT),\n",
    "                wvc.Property(name=\"product_bullet_point\", data_type=wvc.DataType.TEXT),\n",
    "                \n",
    "                # Properties for filtering ONLY (vectorization is skipped)\n",
    "                wvc.Property(name=\"product_id\", data_type=wvc.DataType.TEXT, skip_vectorization=True),\n",
    "                wvc.Property(name=\"product_brand\", data_type=wvc.DataType.TEXT, skip_vectorization=True),\n",
    "                wvc.Property(name=\"product_color\", data_type=wvc.DataType.TEXT, skip_vectorization=True),\n",
    "            ]\n",
    "        )\n",
    "        print(f\"Successfully created collection '{collection_name}'\")\n",
    "    else:\n",
    "        print(f\"Collection '{collection_name}' already exists.\")\n",
    "\n",
    "finally:\n",
    "    client.close()\n",
    "    print(\"Connection closed.\")"
   ]
  },
  {
   "cell_type": "code",
   "execution_count": 5,
   "id": "e2ee11f1",
   "metadata": {},
   "outputs": [
    {
     "name": "stdout",
     "output_type": "stream",
     "text": [
      "Starting data ingestion to Weaviate Cloud...\n",
      "Imported 10000 of 1215854 products\n",
      "Imported 20000 of 1215854 products\n",
      "Imported 30000 of 1215854 products\n"
     ]
    },
    {
     "name": "stderr",
     "output_type": "stream",
     "text": [
      "{'message': 'Failed to send 451 in a batch of 1000', 'errors': {\"unmarshal response body. Got: upstream connect error or disconnect/reset before headers. reset reason: connection termination: invalid character 'u' looking for beginning of value\"}}\n",
      "{'message': 'Failed to send 451 objects in a batch of 1000. Please inspect client.batch.failed_objects or collection.batch.failed_objects for the failed objects.'}\n"
     ]
    },
    {
     "name": "stdout",
     "output_type": "stream",
     "text": [
      "Imported 40000 of 1215854 products\n",
      "Imported 50000 of 1215854 products\n",
      "Imported 60000 of 1215854 products\n",
      "Imported 70000 of 1215854 products\n",
      "Imported 80000 of 1215854 products\n",
      "Imported 90000 of 1215854 products\n",
      "Imported 100000 of 1215854 products\n",
      "Imported 110000 of 1215854 products\n",
      "Imported 120000 of 1215854 products\n",
      "Imported 130000 of 1215854 products\n",
      "Imported 140000 of 1215854 products\n",
      "Imported 150000 of 1215854 products\n",
      "Imported 160000 of 1215854 products\n",
      "Imported 170000 of 1215854 products\n",
      "Imported 180000 of 1215854 products\n",
      "Imported 190000 of 1215854 products\n",
      "Imported 200000 of 1215854 products\n",
      "Imported 210000 of 1215854 products\n",
      "Imported 220000 of 1215854 products\n",
      "Imported 230000 of 1215854 products\n",
      "Imported 240000 of 1215854 products\n",
      "Imported 250000 of 1215854 products\n",
      "Imported 260000 of 1215854 products\n",
      "Imported 270000 of 1215854 products\n",
      "Imported 280000 of 1215854 products\n"
     ]
    },
    {
     "name": "stderr",
     "output_type": "stream",
     "text": [
      "{'message': 'Failed to send all objects in a batch of 1000', 'error': \"WeaviateBatchError('Query call with protocol GRPC batch failed with message Channel closed!.')\"}\n",
      "{'message': 'Failed to send all objects in a batch of 1000', 'error': \"WeaviateBatchError('Query call with protocol GRPC batch failed with message Channel closed!.')\"}\n",
      "{'message': 'Failed to send all objects in a batch of 1000', 'error': \"WeaviateBatchError('Query call with protocol GRPC batch failed with message Channel closed!.')\"}\n",
      "{'message': 'Failed to send 1000 objects in a batch of 1000. Please inspect client.batch.failed_objects or collection.batch.failed_objects for the failed objects.'}\n",
      "{'message': 'Failed to send all objects in a batch of 1000', 'error': \"WeaviateBatchError('Query call with protocol GRPC batch failed with message Channel closed!.')\"}\n",
      "{'message': 'Failed to send all objects in a batch of 1000', 'error': \"WeaviateBatchError('Query call with protocol GRPC batch failed with message Channel closed!.')\"}\n",
      "{'message': 'Failed to send 1000 objects in a batch of 1000. Please inspect client.batch.failed_objects or collection.batch.failed_objects for the failed objects.'}\n",
      "{'message': 'Failed to send 1000 objects in a batch of 1000. Please inspect client.batch.failed_objects or collection.batch.failed_objects for the failed objects.'}\n"
     ]
    },
    {
     "name": "stdout",
     "output_type": "stream",
     "text": [
      "Connection closed.\n"
     ]
    },
    {
     "name": "stderr",
     "output_type": "stream",
     "text": [
      "{'message': 'Failed to send 1000 objects in a batch of 1000. Please inspect client.batch.failed_objects or collection.batch.failed_objects for the failed objects.'}\n",
      "{'message': 'Failed to send 1000 objects in a batch of 1000. Please inspect client.batch.failed_objects or collection.batch.failed_objects for the failed objects.'}\n"
     ]
    },
    {
     "ename": "KeyboardInterrupt",
     "evalue": "",
     "output_type": "error",
     "traceback": [
      "\u001b[31m---------------------------------------------------------------------------\u001b[39m",
      "\u001b[31mKeyboardInterrupt\u001b[39m                         Traceback (most recent call last)",
      "\u001b[36mCell\u001b[39m\u001b[36m \u001b[39m\u001b[32mIn[5]\u001b[39m\u001b[32m, line 38\u001b[39m\n\u001b[32m     37\u001b[39m \u001b[38;5;66;03m# Add object to the batch\u001b[39;00m\n\u001b[32m---> \u001b[39m\u001b[32m38\u001b[39m \u001b[43mbatch\u001b[49m\u001b[43m.\u001b[49m\u001b[43madd_object\u001b[49m\u001b[43m(\u001b[49m\u001b[43mproperties\u001b[49m\u001b[43m=\u001b[49m\u001b[43mproperties\u001b[49m\u001b[43m)\u001b[49m\n\u001b[32m     40\u001b[39m \u001b[38;5;28;01mif\u001b[39;00m (i + \u001b[32m1\u001b[39m) % \u001b[32m10000\u001b[39m == \u001b[32m0\u001b[39m:\n",
      "\u001b[36mFile \u001b[39m\u001b[32m/opt/homebrew/lib/python3.11/site-packages/weaviate/collections/batch/collection.py:77\u001b[39m, in \u001b[36m_BatchCollection.add_object\u001b[39m\u001b[34m(self, properties, references, uuid, vector)\u001b[39m\n\u001b[32m     57\u001b[39m \u001b[38;5;250m\u001b[39m\u001b[33;03m\"\"\"Add one object to this batch.\u001b[39;00m\n\u001b[32m     58\u001b[39m \n\u001b[32m     59\u001b[39m \u001b[33;03mNOTE: If the UUID of one of the objects already exists then the existing object will be replaced by the new object.\u001b[39;00m\n\u001b[32m   (...)\u001b[39m\u001b[32m     75\u001b[39m \u001b[33;03m    WeaviateBatchValidationError: If the provided options are in the format required by Weaviate.\u001b[39;00m\n\u001b[32m     76\u001b[39m \u001b[33;03m\"\"\"\u001b[39;00m\n\u001b[32m---> \u001b[39m\u001b[32m77\u001b[39m \u001b[38;5;28;01mreturn\u001b[39;00m \u001b[38;5;28;43mself\u001b[39;49m\u001b[43m.\u001b[49m\u001b[43m_add_object\u001b[49m\u001b[43m(\u001b[49m\n\u001b[32m     78\u001b[39m \u001b[43m    \u001b[49m\u001b[43mcollection\u001b[49m\u001b[43m=\u001b[49m\u001b[38;5;28;43mself\u001b[39;49m\u001b[43m.\u001b[49m\u001b[43m__name\u001b[49m\u001b[43m,\u001b[49m\n\u001b[32m     79\u001b[39m \u001b[43m    \u001b[49m\u001b[43mproperties\u001b[49m\u001b[43m=\u001b[49m\u001b[43mproperties\u001b[49m\u001b[43m,\u001b[49m\n\u001b[32m     80\u001b[39m \u001b[43m    \u001b[49m\u001b[43mreferences\u001b[49m\u001b[43m=\u001b[49m\u001b[43mreferences\u001b[49m\u001b[43m,\u001b[49m\n\u001b[32m     81\u001b[39m \u001b[43m    \u001b[49m\u001b[43muuid\u001b[49m\u001b[43m=\u001b[49m\u001b[43muuid\u001b[49m\u001b[43m,\u001b[49m\n\u001b[32m     82\u001b[39m \u001b[43m    \u001b[49m\u001b[43mvector\u001b[49m\u001b[43m=\u001b[49m\u001b[43mvector\u001b[49m\u001b[43m,\u001b[49m\n\u001b[32m     83\u001b[39m \u001b[43m    \u001b[49m\u001b[43mtenant\u001b[49m\u001b[43m=\u001b[49m\u001b[38;5;28;43mself\u001b[39;49m\u001b[43m.\u001b[49m\u001b[43m__tenant\u001b[49m\u001b[43m,\u001b[49m\n\u001b[32m     84\u001b[39m \u001b[43m\u001b[49m\u001b[43m)\u001b[49m\n",
      "\u001b[36mFile \u001b[39m\u001b[32m/opt/homebrew/lib/python3.11/site-packages/weaviate/collections/batch/base.py:707\u001b[39m, in \u001b[36m_BatchBase._add_object\u001b[39m\u001b[34m(self, collection, properties, references, uuid, vector, tenant)\u001b[39m\n\u001b[32m    706\u001b[39m     \u001b[38;5;28mself\u001b[39m.__check_bg_thread_alive()\n\u001b[32m--> \u001b[39m\u001b[32m707\u001b[39m     time.sleep(\u001b[32m0.01\u001b[39m)\n\u001b[32m    709\u001b[39m \u001b[38;5;28;01massert\u001b[39;00m batch_object.uuid \u001b[38;5;129;01mis\u001b[39;00m \u001b[38;5;129;01mnot\u001b[39;00m \u001b[38;5;28;01mNone\u001b[39;00m\n",
      "\u001b[31mKeyboardInterrupt\u001b[39m: ",
      "\nDuring handling of the above exception, another exception occurred:\n",
      "\u001b[31mKeyboardInterrupt\u001b[39m                         Traceback (most recent call last)",
      "\u001b[36mCell\u001b[39m\u001b[36m \u001b[39m\u001b[32mIn[5]\u001b[39m\u001b[32m, line 27\u001b[39m\n\u001b[32m     24\u001b[39m \u001b[38;5;28mprint\u001b[39m(\u001b[33m\"\u001b[39m\u001b[33mStarting data ingestion to Weaviate Cloud...\u001b[39m\u001b[33m\"\u001b[39m)\n\u001b[32m     26\u001b[39m \u001b[38;5;66;03m# Use the collection's batch manager for dynamic batching\u001b[39;00m\n\u001b[32m---> \u001b[39m\u001b[32m27\u001b[39m \u001b[43m\u001b[49m\u001b[38;5;28;43;01mwith\u001b[39;49;00m\u001b[43m \u001b[49m\u001b[43mproducts\u001b[49m\u001b[43m.\u001b[49m\u001b[43mbatch\u001b[49m\u001b[43m.\u001b[49m\u001b[43mdynamic\u001b[49m\u001b[43m(\u001b[49m\u001b[43m)\u001b[49m\u001b[43m \u001b[49m\u001b[38;5;28;43;01mas\u001b[39;49;00m\u001b[43m \u001b[49m\u001b[43mbatch\u001b[49m\u001b[43m:\u001b[49m\n\u001b[32m     28\u001b[39m \u001b[43m    \u001b[49m\u001b[38;5;28;43;01mfor\u001b[39;49;00m\u001b[43m \u001b[49m\u001b[43mi\u001b[49m\u001b[43m,\u001b[49m\u001b[43m \u001b[49m\u001b[43mrow\u001b[49m\u001b[43m \u001b[49m\u001b[38;5;129;43;01min\u001b[39;49;00m\u001b[43m \u001b[49m\u001b[43mdf\u001b[49m\u001b[43m.\u001b[49m\u001b[43miterrows\u001b[49m\u001b[43m(\u001b[49m\u001b[43m)\u001b[49m\u001b[43m:\u001b[49m\n\u001b[32m     29\u001b[39m \u001b[43m        \u001b[49m\u001b[43mproperties\u001b[49m\u001b[43m \u001b[49m\u001b[43m=\u001b[49m\u001b[43m \u001b[49m\u001b[43m{\u001b[49m\n\u001b[32m     30\u001b[39m \u001b[43m            \u001b[49m\u001b[33;43m\"\u001b[39;49m\u001b[33;43mproduct_id\u001b[39;49m\u001b[33;43m\"\u001b[39;49m\u001b[43m:\u001b[49m\u001b[43m \u001b[49m\u001b[43mrow\u001b[49m\u001b[43m[\u001b[49m\u001b[33;43m\"\u001b[39;49m\u001b[33;43mproduct_id\u001b[39;49m\u001b[33;43m\"\u001b[39;49m\u001b[43m]\u001b[49m\u001b[43m,\u001b[49m\n\u001b[32m     31\u001b[39m \u001b[43m            \u001b[49m\u001b[33;43m\"\u001b[39;49m\u001b[33;43mproduct_title\u001b[39;49m\u001b[33;43m\"\u001b[39;49m\u001b[43m:\u001b[49m\u001b[43m \u001b[49m\u001b[43mrow\u001b[49m\u001b[43m[\u001b[49m\u001b[33;43m\"\u001b[39;49m\u001b[33;43mproduct_title\u001b[39;49m\u001b[33;43m\"\u001b[39;49m\u001b[43m]\u001b[49m\u001b[43m,\u001b[49m\n\u001b[32m   (...)\u001b[39m\u001b[32m     35\u001b[39m \u001b[43m            \u001b[49m\u001b[33;43m\"\u001b[39;49m\u001b[33;43mproduct_color\u001b[39;49m\u001b[33;43m\"\u001b[39;49m\u001b[43m:\u001b[49m\u001b[43m \u001b[49m\u001b[43mrow\u001b[49m\u001b[43m[\u001b[49m\u001b[33;43m\"\u001b[39;49m\u001b[33;43mproduct_color\u001b[39;49m\u001b[33;43m\"\u001b[39;49m\u001b[43m]\u001b[49m\n\u001b[32m     36\u001b[39m \u001b[43m        \u001b[49m\u001b[43m}\u001b[49m\n",
      "\u001b[36mFile \u001b[39m\u001b[32m/opt/homebrew/lib/python3.11/site-packages/weaviate/collections/batch/batch_wrapper.py:131\u001b[39m, in \u001b[36m_ContextManagerWrapper.__exit__\u001b[39m\u001b[34m(self, exc_type, exc_val, exc_tb)\u001b[39m\n\u001b[32m    130\u001b[39m \u001b[38;5;28;01mdef\u001b[39;00m\u001b[38;5;250m \u001b[39m\u001b[34m__exit__\u001b[39m(\u001b[38;5;28mself\u001b[39m, exc_type: Any, exc_val: Any, exc_tb: Any) -> \u001b[38;5;28;01mNone\u001b[39;00m:\n\u001b[32m--> \u001b[39m\u001b[32m131\u001b[39m     \u001b[38;5;28;43mself\u001b[39;49m\u001b[43m.\u001b[49m\u001b[43m__current_batch\u001b[49m\u001b[43m.\u001b[49m\u001b[43m_shutdown\u001b[49m\u001b[43m(\u001b[49m\u001b[43m)\u001b[49m\n",
      "\u001b[36mFile \u001b[39m\u001b[32m/opt/homebrew/lib/python3.11/site-packages/weaviate/collections/batch/base.py:255\u001b[39m, in \u001b[36m_BatchBase._shutdown\u001b[39m\u001b[34m(self)\u001b[39m\n\u001b[32m    253\u001b[39m \u001b[38;5;28;01mdef\u001b[39;00m\u001b[38;5;250m \u001b[39m\u001b[34m_shutdown\u001b[39m(\u001b[38;5;28mself\u001b[39m) -> \u001b[38;5;28;01mNone\u001b[39;00m:\n\u001b[32m    254\u001b[39m \u001b[38;5;250m    \u001b[39m\u001b[33;03m\"\"\"Shutdown the current batch and wait for all requests to be finished.\"\"\"\u001b[39;00m\n\u001b[32m--> \u001b[39m\u001b[32m255\u001b[39m     \u001b[38;5;28;43mself\u001b[39;49m\u001b[43m.\u001b[49m\u001b[43mflush\u001b[49m\u001b[43m(\u001b[49m\u001b[43m)\u001b[49m\n\u001b[32m    257\u001b[39m     \u001b[38;5;66;03m# we are done, shut bg threads down and end the event loop\u001b[39;00m\n\u001b[32m    258\u001b[39m     \u001b[38;5;28mself\u001b[39m.__shut_background_thread_down.set()\n",
      "\u001b[36mFile \u001b[39m\u001b[32m/opt/homebrew/lib/python3.11/site-packages/weaviate/collections/batch/base.py:668\u001b[39m, in \u001b[36m_BatchBase.flush\u001b[39m\u001b[34m(self)\u001b[39m\n\u001b[32m    662\u001b[39m \u001b[38;5;66;03m# bg thread is sending objs+refs automatically, so simply wait for everything to be done\u001b[39;00m\n\u001b[32m    663\u001b[39m \u001b[38;5;28;01mwhile\u001b[39;00m (\n\u001b[32m    664\u001b[39m     \u001b[38;5;28mself\u001b[39m.__active_requests > \u001b[32m0\u001b[39m\n\u001b[32m    665\u001b[39m     \u001b[38;5;129;01mor\u001b[39;00m \u001b[38;5;28mlen\u001b[39m(\u001b[38;5;28mself\u001b[39m.__batch_objects) > \u001b[32m0\u001b[39m\n\u001b[32m    666\u001b[39m     \u001b[38;5;129;01mor\u001b[39;00m \u001b[38;5;28mlen\u001b[39m(\u001b[38;5;28mself\u001b[39m.__batch_references) > \u001b[32m0\u001b[39m\n\u001b[32m    667\u001b[39m ):\n\u001b[32m--> \u001b[39m\u001b[32m668\u001b[39m     \u001b[43mtime\u001b[49m\u001b[43m.\u001b[49m\u001b[43msleep\u001b[49m\u001b[43m(\u001b[49m\u001b[32;43m0.01\u001b[39;49m\u001b[43m)\u001b[49m\n\u001b[32m    669\u001b[39m     \u001b[38;5;28mself\u001b[39m.__check_bg_thread_alive()\n",
      "\u001b[31mKeyboardInterrupt\u001b[39m: "
     ]
    }
   ],
   "source": [
    "import pandas as pd\n",
    "\n",
    "# --- 1. Connection Details ---\n",
    "load_dotenv()\n",
    "WEAVIATE_URL = os.environ.get(\"WEAVIATE_URL\")\n",
    "WEAVIATE_API_KEY = os.environ.get(\"WEAVIATE_API_KEY\")\n",
    "OPENAI_API_KEY = os.environ.get(\"OPENAI_API_KEY\")\n",
    "\n",
    "# --- 2. Connect to Weaviate Cloud (v4 method) ---\n",
    "client = weaviate.connect_to_weaviate_cloud(\n",
    "    cluster_url=WEAVIATE_URL,\n",
    "    auth_credentials=Auth.api_key(WEAVIATE_API_KEY),\n",
    "    headers={\"X-OpenAI-Api-Key\": OPENAI_API_KEY}\n",
    ")\n",
    "\n",
    "# --- 3. Load Data and Ingest ---\n",
    "try:\n",
    "    # Get the collection object\n",
    "    products = client.collections.get(\"EcommerceProducts\")\n",
    "\n",
    "    df = pd.read_parquet('../Dataset/shopping_queries_dataset_products_us.parquet')\n",
    "    df.fillna('', inplace=True)\n",
    "\n",
    "    print(\"Starting data ingestion to Weaviate Cloud...\")\n",
    "\n",
    "    # Use the collection's batch manager for dynamic batching\n",
    "    with products.batch.dynamic() as batch:\n",
    "        for i, row in df.iterrows():\n",
    "            properties = {\n",
    "                \"product_id\": row[\"product_id\"],\n",
    "                \"product_title\": row[\"product_title\"],\n",
    "                \"product_description\": row[\"product_description\"],\n",
    "                \"product_bullet_point\": row[\"product_bullet_point\"],\n",
    "                \"product_brand\": row[\"product_brand\"],\n",
    "                \"product_color\": row[\"product_color\"]\n",
    "            }\n",
    "            # Add object to the batch\n",
    "            batch.add_object(properties=properties)\n",
    "\n",
    "            if (i + 1) % 10000 == 0:\n",
    "                print(f\"Imported {i + 1} of {len(df)} products\")\n",
    "    \n",
    "    print(f\"Data ingestion complete! Total objects in collection: {len(products)}\")\n",
    "\n",
    "finally:\n",
    "    client.close()\n",
    "    print(\"Connection closed.\")"
   ]
  }
 ],
 "metadata": {
  "kernelspec": {
   "display_name": "Python 3",
   "language": "python",
   "name": "python3"
  },
  "language_info": {
   "codemirror_mode": {
    "name": "ipython",
    "version": 3
   },
   "file_extension": ".py",
   "mimetype": "text/x-python",
   "name": "python",
   "nbconvert_exporter": "python",
   "pygments_lexer": "ipython3",
   "version": "3.11.12"
  }
 },
 "nbformat": 4,
 "nbformat_minor": 5
}
